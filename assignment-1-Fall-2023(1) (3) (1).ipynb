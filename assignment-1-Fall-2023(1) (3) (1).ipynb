{
 "cells": [
  {
   "cell_type": "markdown",
   "metadata": {
    "deletable": false,
    "nbgrader": {
     "checksum": "e3cd066e7cb0c61ba50126b0b2d49e23",
     "grade": false,
     "grade_id": "1",
     "locked": true,
     "solution": false
    }
   },
   "source": [
    "# Assignment 1 - Shell basics - Jupyter Notebook I\n",
    "\n",
    "Work through as much of the Software Carpentry [lesson on the Unix Shell](http://swcarpentry.github.io/shell-novice/) as you can.  Run through the Setup section just below, then open a shell from the command line or with a terminal session through Jupyter to run through the exercises.\n",
    "\n",
    "After you have completed the first few sections of the tutorial, return to this notebook.\n",
    "\n",
    "Execute all of the cells, answer all of the questions, and wherever you see \"**Edit this cell**\", do it!\n",
    "\n",
    "\n",
    "## 0. Setup - getting required files \n",
    "\n",
    "To get started, you'll need to have the required files in your directory.  Use `wget` to get them:"
   ]
  },
  {
   "cell_type": "code",
   "execution_count": 3,
   "metadata": {
    "deletable": false,
    "nbgrader": {
     "checksum": "8226311a7516ff4f1e6f8a40f42bc600",
     "grade": false,
     "grade_id": "2",
     "locked": true,
     "solution": false
    }
   },
   "outputs": [
    {
     "name": "stdout",
     "output_type": "stream",
     "text": [
      "--2023-09-11 02:15:48--  https://swcarpentry.github.io/shell-novice/data/shell-lesson-data.zip\n",
      "Resolving swcarpentry.github.io (swcarpentry.github.io)... 185.199.109.153, 185.199.110.153, 185.199.111.153, ...\n",
      "Connecting to swcarpentry.github.io (swcarpentry.github.io)|185.199.109.153|:443... connected.\n",
      "HTTP request sent, awaiting response... 200 OK\n",
      "Length: 460289 (450K) [application/zip]\n",
      "Saving to: ‘shell-lesson-data.zip.1’\n",
      "\n",
      "shell-lesson-data.z 100%[===================>] 449.50K  --.-KB/s    in 0.02s   \n",
      "\n",
      "2023-09-11 02:15:48 (23.4 MB/s) - ‘shell-lesson-data.zip.1’ saved [460289/460289]\n",
      "\n"
     ]
    }
   ],
   "source": [
    "!wget https://swcarpentry.github.io/shell-novice/data/shell-lesson-data.zip"
   ]
  },
  {
   "cell_type": "markdown",
   "metadata": {},
   "source": [
    "The `unzip -l` option shows you what will be unpacked before you actually unpack it.  It's always a good habit to check what you're going to find before you fill your disk with new files."
   ]
  },
  {
   "cell_type": "code",
   "execution_count": 4,
   "metadata": {
    "deletable": false,
    "nbgrader": {
     "checksum": "ae8f6d811b95bdcc1a676969401c6b73",
     "grade": false,
     "grade_id": "3",
     "locked": true,
     "solution": false
    }
   },
   "outputs": [
    {
     "name": "stdout",
     "output_type": "stream",
     "text": [
      "Archive:  shell-lesson-data.zip\n",
      "  Length      Date    Time    Name\n",
      "---------  ---------- -----   ----\n",
      "        0  2023-03-12 12:40   shell-lesson-data/\n",
      "        0  2023-03-12 12:40   shell-lesson-data/north-pacific-gyre/\n",
      "        0  2023-03-12 12:42   shell-lesson-data/exercise-data/\n",
      "        0  2023-03-12 12:40   shell-lesson-data/exercise-data/writing/\n",
      "  1053440  2023-03-12 12:40   shell-lesson-data/exercise-data/writing/LittleWomen.txt\n",
      "      218  2023-03-12 12:40   shell-lesson-data/exercise-data/writing/haiku.txt\n",
      "        0  2023-03-12 12:40   shell-lesson-data/exercise-data/creatures/\n",
      "     1838  2023-03-12 12:40   shell-lesson-data/exercise-data/creatures/basilisk.dat\n",
      "     1833  2023-03-12 12:40   shell-lesson-data/exercise-data/creatures/unicorn.dat\n",
      "     1830  2023-03-12 12:40   shell-lesson-data/exercise-data/creatures/minotaur.dat\n",
      "        0  2023-03-12 12:40   shell-lesson-data/exercise-data/animal-counts/\n",
      "      155  2023-03-12 12:40   shell-lesson-data/exercise-data/animal-counts/animals.csv\n",
      "       13  2023-03-12 12:40   shell-lesson-data/exercise-data/numbers.txt\n",
      "     4389  2023-03-12 12:40   shell-lesson-data/north-pacific-gyre/NENE01978B.txt\n",
      "     3517  2023-03-12 12:40   shell-lesson-data/north-pacific-gyre/NENE02018B.txt\n",
      "     4371  2023-03-12 12:40   shell-lesson-data/north-pacific-gyre/NENE01736A.txt\n",
      "     4411  2023-03-12 12:40   shell-lesson-data/north-pacific-gyre/NENE01751A.txt\n",
      "     4393  2023-03-12 12:40   shell-lesson-data/north-pacific-gyre/NENE02043B.txt\n",
      "     4367  2023-03-12 12:40   shell-lesson-data/north-pacific-gyre/NENE02040B.txt\n",
      "     4409  2023-03-12 12:40   shell-lesson-data/north-pacific-gyre/NENE01751B.txt\n",
      "     4381  2023-03-12 12:40   shell-lesson-data/north-pacific-gyre/NENE02040Z.txt\n",
      "     4372  2023-03-12 12:40   shell-lesson-data/north-pacific-gyre/NENE01971Z.txt\n",
      "     4401  2023-03-12 12:40   shell-lesson-data/north-pacific-gyre/NENE01812A.txt\n",
      "     4406  2023-03-12 12:40   shell-lesson-data/north-pacific-gyre/NENE01729A.txt\n",
      "     4386  2023-03-12 12:40   shell-lesson-data/north-pacific-gyre/NENE02043A.txt\n",
      "     4400  2023-03-12 12:40   shell-lesson-data/north-pacific-gyre/NENE01729B.txt\n",
      "     4395  2023-03-12 12:40   shell-lesson-data/north-pacific-gyre/NENE01843A.txt\n",
      "     4391  2023-03-12 12:40   shell-lesson-data/north-pacific-gyre/NENE02040A.txt\n",
      "     4381  2023-03-12 12:40   shell-lesson-data/north-pacific-gyre/NENE01978A.txt\n",
      "      345  2023-03-12 12:40   shell-lesson-data/north-pacific-gyre/goodiff.sh\n",
      "      218  2023-03-12 12:40   shell-lesson-data/north-pacific-gyre/goostats.sh\n",
      "     4375  2023-03-12 12:40   shell-lesson-data/north-pacific-gyre/NENE01843B.txt\n",
      "        0  2023-03-12 12:42   shell-lesson-data/exercise-data/alkanes/\n",
      "      422  2023-03-12 12:42   shell-lesson-data/exercise-data/alkanes/methane.pdb\n",
      "      825  2023-03-12 12:42   shell-lesson-data/exercise-data/alkanes/propane.pdb\n",
      "      622  2023-03-12 12:42   shell-lesson-data/exercise-data/alkanes/ethane.pdb\n",
      "     1226  2023-03-12 12:42   shell-lesson-data/exercise-data/alkanes/pentane.pdb\n",
      "     1828  2023-03-12 12:42   shell-lesson-data/exercise-data/alkanes/octane.pdb\n",
      "     1158  2023-03-12 12:42   shell-lesson-data/exercise-data/alkanes/cubane.pdb\n",
      "---------                     -------\n",
      "  1139716                     39 files\n"
     ]
    }
   ],
   "source": [
    "!unzip -l shell-lesson-data.zip"
   ]
  },
  {
   "cell_type": "markdown",
   "metadata": {},
   "source": [
    "Looks good - now we remove the `-l` so we can `unzip` it for real this time."
   ]
  },
  {
   "cell_type": "code",
   "execution_count": 14,
   "metadata": {
    "deletable": false,
    "nbgrader": {
     "checksum": "4d1a9ad9353f087a9492105c292e77f0",
     "grade": false,
     "grade_id": "4",
     "locked": true,
     "solution": false
    }
   },
   "outputs": [
    {
     "name": "stdout",
     "output_type": "stream",
     "text": [
      "Archive:  shell-lesson-data.zip\n",
      "replace shell-lesson-data/exercise-data/writing/LittleWomen.txt? [y]es, [n]o, [A]ll, [N]one, [r]ename: ^C\n"
     ]
    }
   ],
   "source": [
    "!unzip shell-lesson-data.zip"
   ]
  },
  {
   "cell_type": "markdown",
   "metadata": {
    "deletable": false,
    "nbgrader": {
     "checksum": "152f602792df2af81846d380bde22960",
     "grade": false,
     "grade_id": "5",
     "locked": true,
     "solution": false
    }
   },
   "source": [
    "*Note*: you only need to do this once per session while using Jupyter.  You can open a terminal now and work through the steps, and return to this notebook a little later, and the files will be available either way.  That's because you're working in the same local directory.\n",
    "\n",
    "If you're reusing one AWS EC2 instance, your files should remain after you stop and restart. "
   ]
  },
  {
   "cell_type": "markdown",
   "metadata": {},
   "source": [
    "## 1. Markdown basics (10%)\n",
    "\n",
    "In the following cells, practice marking up text using markdown:"
   ]
  },
  {
   "cell_type": "markdown",
   "metadata": {},
   "source": [
    "# Make this a top-level header (add \"`# `\" to the left of the text)."
   ]
  },
  {
   "cell_type": "markdown",
   "metadata": {},
   "source": [
    "## Make this a second-level header (add \"`## `\" to the left of the text)."
   ]
  },
  {
   "cell_type": "markdown",
   "metadata": {},
   "source": [
    "Make the following three words three separate bullet points (add \"`* `\" to the left of each line):\n",
    "\n",
    "  `* ` One\n",
    "  `* ` Two\n",
    "  `* ` Three"
   ]
  },
  {
   "cell_type": "markdown",
   "metadata": {},
   "source": [
    "Make this cell a Markdown cell instead of code!"
   ]
  },
  {
   "cell_type": "code",
   "execution_count": 6,
   "metadata": {},
   "outputs": [
    {
     "name": "stdout",
     "output_type": "stream",
     "text": [
      "Make this cell a code cell instead of Markdown!\n"
     ]
    }
   ],
   "source": [
    "print(\"Make this cell a code cell instead of Markdown!\")"
   ]
  },
  {
   "cell_type": "markdown",
   "metadata": {
    "deletable": false,
    "nbgrader": {
     "checksum": "20336e8a4415b37ddad44f9fcf537212",
     "grade": false,
     "grade_id": "6",
     "locked": true,
     "solution": false
    }
   },
   "source": [
    "## 2. Navigating Files and Directories (10%)\n",
    "\n",
    "As you work through this section of the tutorial, complete the steps here as well, using the `!` shell escape command.  Execute each cell as you go.\n",
    "\n",
    "These steps aren't exactly the same as what's in the tutorial, where the file layout is a little different and where they're not using a notebook like we are.  That's okay.  Just consider this practice."
   ]
  },
  {
   "cell_type": "code",
   "execution_count": 7,
   "metadata": {
    "nbgrader": {
     "grade": false,
     "locked": false,
     "points": 1,
     "solution": false
    }
   },
   "outputs": [
    {
     "name": "stdout",
     "output_type": "stream",
     "text": [
      "ubuntu\n"
     ]
    }
   ],
   "source": [
    "!whoami"
   ]
  },
  {
   "cell_type": "code",
   "execution_count": 8,
   "metadata": {
    "nbgrader": {
     "grade": false,
     "locked": false,
     "points": 1,
     "solution": false
    }
   },
   "outputs": [
    {
     "name": "stdout",
     "output_type": "stream",
     "text": [
      "/home/ubuntu/notebooks/Assignment 1\n"
     ]
    }
   ],
   "source": [
    "!pwd"
   ]
  },
  {
   "cell_type": "code",
   "execution_count": 9,
   "metadata": {
    "nbgrader": {
     "grade": false,
     "locked": false,
     "points": 1,
     "solution": false
    }
   },
   "outputs": [
    {
     "name": "stdout",
     "output_type": "stream",
     "text": [
      "'assignment-1-Fall-2023(1) (3).ipynb'   quotations.txt\n",
      " filelist.txt\t\t\t        quotes.txt\n",
      " mydirectory/\t\t\t        shell-lesson-data/\n",
      " myfiles.txt\t\t\t        shell-lesson-data.zip\n",
      " partone/\t\t\t        shell-lesson-data.zip.1\n"
     ]
    }
   ],
   "source": [
    "!ls -F"
   ]
  },
  {
   "cell_type": "code",
   "execution_count": 10,
   "metadata": {
    "nbgrader": {
     "grade": false,
     "locked": false,
     "points": 1,
     "solution": false
    }
   },
   "outputs": [
    {
     "name": "stdout",
     "output_type": "stream",
     "text": [
      "exercise-data/\tnorth-pacific-gyre/\n"
     ]
    }
   ],
   "source": [
    "!ls -F shell-lesson-data/"
   ]
  },
  {
   "cell_type": "code",
   "execution_count": 11,
   "metadata": {
    "nbgrader": {
     "grade": false,
     "locked": false,
     "points": 1,
     "solution": false
    }
   },
   "outputs": [
    {
     "name": "stdout",
     "output_type": "stream",
     "text": [
      " ./\t\t\t\t        partone/\n",
      " ../\t\t\t\t        quotations.txt\n",
      " .ipynb_checkpoints/\t\t        quotes.txt\n",
      "'assignment-1-Fall-2023(1) (3).ipynb'   shell-lesson-data/\n",
      " filelist.txt\t\t\t        shell-lesson-data.zip\n",
      " mydirectory/\t\t\t        shell-lesson-data.zip.1\n",
      " myfiles.txt\n"
     ]
    }
   ],
   "source": [
    "!ls -aF"
   ]
  },
  {
   "cell_type": "code",
   "execution_count": 12,
   "metadata": {
    "nbgrader": {
     "grade": false,
     "locked": false,
     "points": 1,
     "solution": false
    }
   },
   "outputs": [
    {
     "name": "stdout",
     "output_type": "stream",
     "text": [
      " myfiles.txt\t\t  'assignment-1-Fall-2023(1) (3).ipynb'\n",
      " quotes.txt\t\t   filelist.txt\n",
      " partone\t\t   quotations.txt\n",
      " ..\t\t\t   mydirectory\n",
      " shell-lesson-data.zip\t   shell-lesson-data\n",
      " shell-lesson-data.zip.1   .ipynb_checkpoints\n",
      " .\n"
     ]
    }
   ],
   "source": [
    "!ls -af ."
   ]
  },
  {
   "cell_type": "markdown",
   "metadata": {
    "deletable": false,
    "nbgrader": {
     "checksum": "68b014c6f404b0d1d947f29e2bfcc486",
     "grade": false,
     "grade_id": "17",
     "locked": true,
     "points": 1,
     "solution": false
    }
   },
   "source": [
    "What is the difference between the two previous cells, and what does the single dot mean?"
   ]
  },
  {
   "cell_type": "markdown",
   "metadata": {
    "deletable": false,
    "nbgrader": {
     "checksum": "096f49df2f3ad787d39504949efc14c8",
     "grade": true,
     "grade_id": "156",
     "locked": false,
     "points": 1,
     "solution": true
    }
   },
   "source": [
    "**EDIT THIS CELL** WITH YOUR ANSWER HERE\n",
    "\n",
    "**What is the difference between the two previous cells**\n",
    "The differences are dot \".\" and uppercase and lowercase of \"F\" and \"f\". Furthermore, \"f\" is not able to sort and list the files and directories, but \"F\" is able in a default order\n",
    "\n",
    "**what does the single dot mean?**\n",
    "It lists the current directory for assigned content."
   ]
  },
  {
   "cell_type": "code",
   "execution_count": 13,
   "metadata": {
    "nbgrader": {
     "grade": false,
     "locked": false,
     "points": 1,
     "solution": false
    }
   },
   "outputs": [
    {
     "name": "stdout",
     "output_type": "stream",
     "text": [
      "'Assignment 1'/      index.html.2\t\t   shell-lesson-data.zip.1\n",
      "'Untitled Folder'/   practice-01-2023.ipynb\t   shell-lesson-data.zip.2\n",
      " Untitled.ipynb      practice-02-fall-2023.ipynb   shell-lesson-data.zip.3\n",
      " index.html\t     shell-lesson-data/\t\t   shell-lesson-data.zip.4\n",
      " index.html.1\t     shell-lesson-data.zip\t   untitled.txt\n"
     ]
    }
   ],
   "source": [
    "!ls -F .."
   ]
  },
  {
   "cell_type": "markdown",
   "metadata": {
    "deletable": false,
    "nbgrader": {
     "checksum": "7edc7fa8b245f34a03ead3d212893148",
     "grade": false,
     "grade_id": "18",
     "locked": true,
     "points": 1,
     "solution": false
    }
   },
   "source": [
    "What do the double dots mean?"
   ]
  },
  {
   "cell_type": "markdown",
   "metadata": {
    "deletable": false,
    "nbgrader": {
     "checksum": "aa03dc1d4946820269aa3232690a8098",
     "grade": true,
     "grade_id": "155",
     "locked": false,
     "points": 1,
     "solution": true
    }
   },
   "source": [
    "**EDIT THIS CELL** WITH YOUR ANSWER HERE\n",
    "\n",
    "**What do the double dots mean?** It means to access to the parent directory of the current location"
   ]
  },
  {
   "cell_type": "code",
   "execution_count": 12,
   "metadata": {
    "nbgrader": {
     "grade": false,
     "locked": false,
     "points": 1,
     "solution": false
    }
   },
   "outputs": [
    {
     "name": "stdout",
     "output_type": "stream",
     "text": [
      "NENE01729A.txt\tNENE01751B.txt\tNENE01971Z.txt\tNENE02040A.txt\tNENE02043B.txt\n",
      "NENE01729B.txt\tNENE01812A.txt\tNENE01978A.txt\tNENE02040B.txt\tgoodiff.sh\n",
      "NENE01736A.txt\tNENE01843A.txt\tNENE01978B.txt\tNENE02040Z.txt\tgoostats.sh\n",
      "NENE01751A.txt\tNENE01843B.txt\tNENE02018B.txt\tNENE02043A.txt\n"
     ]
    }
   ],
   "source": [
    "!ls shell-lesson-data/north-pacific-gyre/"
   ]
  },
  {
   "cell_type": "markdown",
   "metadata": {
    "deletable": false,
    "nbgrader": {
     "checksum": "73813310a319b6fb2eaa47fd2e446113",
     "grade": false,
     "grade_id": "20",
     "locked": true,
     "solution": false
    },
    "tags": []
   },
   "source": [
    "## 3. Working with Files and Directories (10%)\n",
    "\n",
    "The following cells come from the next section of the tutorial."
   ]
  },
  {
   "cell_type": "code",
   "execution_count": 16,
   "metadata": {
    "nbgrader": {
     "grade": false,
     "locked": false,
     "points": 1,
     "solution": false
    }
   },
   "outputs": [
    {
     "name": "stdout",
     "output_type": "stream",
     "text": [
      "'assignment-1-Fall-2023(1) (3).ipynb'   quotations.txt\n",
      " filelist.txt\t\t\t        quotes.txt\n",
      " mydirectory/\t\t\t        shell-lesson-data/\n",
      " myfiles.txt\t\t\t        shell-lesson-data.zip\n",
      " partone/\t\t\t        shell-lesson-data.zip.1\n"
     ]
    }
   ],
   "source": [
    "!ls -F"
   ]
  },
  {
   "cell_type": "code",
   "execution_count": 17,
   "metadata": {
    "nbgrader": {
     "grade": false,
     "locked": false,
     "points": 1,
     "solution": false
    }
   },
   "outputs": [],
   "source": [
    "!mkdir thesis"
   ]
  },
  {
   "cell_type": "code",
   "execution_count": 30,
   "metadata": {
    "deletable": false,
    "nbgrader": {
     "checksum": "d3b4bcc7173216067e71713971f56458",
     "grade": true,
     "grade_id": "121",
     "locked": true,
     "points": 1,
     "solution": false
    }
   },
   "outputs": [],
   "source": [
    "import os\n",
    "assert \"thesis\" in os.listdir()"
   ]
  },
  {
   "cell_type": "code",
   "execution_count": 16,
   "metadata": {
    "nbgrader": {
     "grade": false,
     "locked": false,
     "points": 1,
     "solution": false
    }
   },
   "outputs": [
    {
     "name": "stdout",
     "output_type": "stream",
     "text": [
      "'assignment-1-Fall-2023(1) (3).ipynb'   shell-lesson-data.zip\n",
      " shell-lesson-data/\t\t        thesis/\n"
     ]
    }
   ],
   "source": [
    "!ls -F"
   ]
  },
  {
   "cell_type": "markdown",
   "metadata": {
    "deletable": false,
    "nbgrader": {
     "checksum": "066e9eefabbb9850efbaf78568d53cc1",
     "grade": false,
     "grade_id": "12",
     "locked": true,
     "solution": false
    }
   },
   "source": [
    "You can't use the nano editor here in Jupyter, so we'll use the `touch` command to create an empty file instead."
   ]
  },
  {
   "cell_type": "code",
   "execution_count": 17,
   "metadata": {
    "nbgrader": {
     "grade": false,
     "locked": false,
     "points": 1,
     "solution": false
    }
   },
   "outputs": [],
   "source": [
    "!touch thesis/draft.txt"
   ]
  },
  {
   "cell_type": "code",
   "execution_count": 18,
   "metadata": {
    "deletable": false,
    "nbgrader": {
     "checksum": "fa8505bfc9fef49d61b9d88bd67c8ac8",
     "grade": true,
     "grade_id": "123",
     "locked": true,
     "points": 1,
     "solution": false
    }
   },
   "outputs": [],
   "source": [
    "assert \"draft.txt\" in os.listdir(\"thesis\")"
   ]
  },
  {
   "cell_type": "code",
   "execution_count": 19,
   "metadata": {
    "nbgrader": {
     "grade": false,
     "locked": false,
     "points": 1,
     "solution": false
    }
   },
   "outputs": [
    {
     "name": "stdout",
     "output_type": "stream",
     "text": [
      "draft.txt\n"
     ]
    }
   ],
   "source": [
    "!ls -F thesis"
   ]
  },
  {
   "cell_type": "markdown",
   "metadata": {
    "deletable": false,
    "nbgrader": {
     "checksum": "44efd4ee4fa259cb189e7d8755761bdd",
     "grade": false,
     "grade_id": "33",
     "locked": true,
     "solution": false
    }
   },
   "source": [
    "Removing files and directories."
   ]
  },
  {
   "cell_type": "code",
   "execution_count": 20,
   "metadata": {
    "nbgrader": {
     "grade": false,
     "locked": false,
     "points": 1,
     "solution": false
    }
   },
   "outputs": [],
   "source": [
    "!rm thesis/draft.txt"
   ]
  },
  {
   "cell_type": "code",
   "execution_count": 21,
   "metadata": {
    "deletable": false,
    "nbgrader": {
     "checksum": "764dbb17e55a063f3a9414ce228ffee5",
     "grade": true,
     "grade_id": "125",
     "locked": true,
     "points": 1,
     "solution": false
    }
   },
   "outputs": [],
   "source": [
    "assert \"draft.txt\" not in os.listdir(\"thesis\")"
   ]
  },
  {
   "cell_type": "code",
   "execution_count": 22,
   "metadata": {
    "nbgrader": {
     "grade": false,
     "locked": false,
     "points": 1,
     "solution": false
    }
   },
   "outputs": [
    {
     "name": "stdout",
     "output_type": "stream",
     "text": [
      "rm: cannot remove 'thesis': Is a directory\n"
     ]
    }
   ],
   "source": [
    "!rm thesis"
   ]
  },
  {
   "cell_type": "code",
   "execution_count": 23,
   "metadata": {
    "nbgrader": {
     "grade": false,
     "locked": false,
     "points": 1,
     "solution": false
    }
   },
   "outputs": [],
   "source": [
    "!rmdir thesis"
   ]
  },
  {
   "cell_type": "code",
   "execution_count": 24,
   "metadata": {
    "deletable": false,
    "nbgrader": {
     "checksum": "afcbc0f82ee2883500630687cc14828f",
     "grade": true,
     "grade_id": "127",
     "locked": true,
     "points": 1,
     "solution": false
    }
   },
   "outputs": [],
   "source": [
    "assert \"thesis\" not in os.listdir()"
   ]
  },
  {
   "cell_type": "code",
   "execution_count": 25,
   "metadata": {
    "nbgrader": {
     "grade": false,
     "locked": false,
     "points": 1,
     "solution": false
    }
   },
   "outputs": [
    {
     "name": "stdout",
     "output_type": "stream",
     "text": [
      "'assignment-1-Fall-2023(1) (3).ipynb'   shell-lesson-data.zip\n",
      " shell-lesson-data\n"
     ]
    }
   ],
   "source": [
    "!ls"
   ]
  },
  {
   "cell_type": "markdown",
   "metadata": {
    "deletable": false,
    "nbgrader": {
     "checksum": "87b89212f52afe53f74d19db0641c135",
     "grade": false,
     "grade_id": "32",
     "locked": true,
     "solution": false
    }
   },
   "source": [
    "Renaming and copying files."
   ]
  },
  {
   "cell_type": "code",
   "execution_count": 26,
   "metadata": {
    "nbgrader": {
     "grade": false,
     "locked": false,
     "points": 1,
     "solution": false
    }
   },
   "outputs": [],
   "source": [
    "!touch draft.txt"
   ]
  },
  {
   "cell_type": "code",
   "execution_count": 27,
   "metadata": {
    "deletable": false,
    "nbgrader": {
     "checksum": "1c7350af16e1e0bf1b73f739c590daea",
     "grade": true,
     "grade_id": "129",
     "locked": true,
     "points": 1,
     "solution": false
    }
   },
   "outputs": [],
   "source": [
    "assert \"draft.txt\" in os.listdir()"
   ]
  },
  {
   "cell_type": "code",
   "execution_count": 28,
   "metadata": {
    "nbgrader": {
     "grade": false,
     "locked": false,
     "points": 1,
     "solution": false
    }
   },
   "outputs": [],
   "source": [
    "!mv draft.txt quotes.txt"
   ]
  },
  {
   "cell_type": "code",
   "execution_count": 31,
   "metadata": {
    "deletable": false,
    "nbgrader": {
     "checksum": "acc883d214907d655164e9eaf1da7ee7",
     "grade": true,
     "grade_id": "130",
     "locked": true,
     "points": 1,
     "solution": false
    }
   },
   "outputs": [],
   "source": [
    "assert \"quotes.txt\" in os.listdir()\n",
    "assert \"draft.txt\" not in os.listdir()"
   ]
  },
  {
   "cell_type": "code",
   "execution_count": 30,
   "metadata": {
    "nbgrader": {
     "grade": false,
     "locked": false,
     "points": 1,
     "solution": false
    }
   },
   "outputs": [
    {
     "name": "stdout",
     "output_type": "stream",
     "text": [
      "'assignment-1-Fall-2023(1) (3).ipynb'   shell-lesson-data\n",
      " quotes.txt\t\t\t        shell-lesson-data.zip\n"
     ]
    }
   ],
   "source": [
    "!ls"
   ]
  },
  {
   "cell_type": "code",
   "execution_count": 32,
   "metadata": {
    "nbgrader": {
     "grade": false,
     "locked": false,
     "points": 1,
     "solution": false
    }
   },
   "outputs": [],
   "source": [
    "!cp quotes.txt quotations.txt"
   ]
  },
  {
   "cell_type": "code",
   "execution_count": 33,
   "metadata": {
    "deletable": false,
    "nbgrader": {
     "checksum": "d695bea6d61e9647e20623f2257770c4",
     "grade": true,
     "grade_id": "134",
     "locked": true,
     "points": 1,
     "solution": false
    }
   },
   "outputs": [],
   "source": [
    "assert \"quotes.txt\" in os.listdir()\n",
    "assert \"quotations.txt\" in os.listdir()"
   ]
  },
  {
   "cell_type": "markdown",
   "metadata": {},
   "source": [
    "## 4. Working with output redirection (20%)"
   ]
  },
  {
   "cell_type": "markdown",
   "metadata": {},
   "source": [
    "Create a new directory:"
   ]
  },
  {
   "cell_type": "code",
   "execution_count": 34,
   "metadata": {
    "deletable": false,
    "nbgrader": {
     "checksum": "f5b537d5f7b952dce317446fdb058b9a",
     "grade": false,
     "grade_id": "10",
     "locked": true,
     "solution": false
    }
   },
   "outputs": [],
   "source": [
    "!mkdir part1"
   ]
  },
  {
   "cell_type": "markdown",
   "metadata": {
    "nbgrader": {
     "grade": false,
     "locked": false,
     "solution": false
    }
   },
   "source": [
    "Rename `part1` to `partone` using `mv`."
   ]
  },
  {
   "cell_type": "code",
   "execution_count": 35,
   "metadata": {
    "deletable": false,
    "nbgrader": {
     "checksum": "c82f3351fee8525d38ee16f7eec7507f",
     "grade": false,
     "grade_id": "20",
     "locked": true,
     "solution": false
    }
   },
   "outputs": [
    {
     "name": "stdout",
     "output_type": "stream",
     "text": [
      "'assignment-1-Fall-2023(1) (3).ipynb'   quotations.txt\t shell-lesson-data\n",
      " partone\t\t\t        quotes.txt\t shell-lesson-data.zip\n"
     ]
    }
   ],
   "source": [
    "!mv part1 partone\n",
    "!ls"
   ]
  },
  {
   "cell_type": "markdown",
   "metadata": {},
   "source": [
    "Create a file named `filelist.txt` using the output from `ls` and the output redirector `>`."
   ]
  },
  {
   "cell_type": "code",
   "execution_count": 36,
   "metadata": {
    "deletable": false,
    "nbgrader": {
     "checksum": "30b729d6432b6cca7910ee892899ef5d",
     "grade": false,
     "grade_id": "30",
     "locked": true,
     "solution": false
    }
   },
   "outputs": [],
   "source": [
    "!ls > filelist.txt"
   ]
  },
  {
   "cell_type": "code",
   "execution_count": 37,
   "metadata": {
    "deletable": false,
    "nbgrader": {
     "checksum": "9dfe08124e175d4de3f34a9696605bc5",
     "grade": false,
     "grade_id": "40",
     "locked": true,
     "solution": false
    }
   },
   "outputs": [
    {
     "name": "stdout",
     "output_type": "stream",
     "text": [
      "assignment-1-Fall-2023(1) (3).ipynb\n",
      "filelist.txt\n",
      "partone\n",
      "quotations.txt\n",
      "quotes.txt\n",
      "shell-lesson-data\n",
      "shell-lesson-data.zip\n"
     ]
    }
   ],
   "source": [
    "!cat filelist.txt"
   ]
  },
  {
   "cell_type": "markdown",
   "metadata": {},
   "source": [
    "Append to `filelist.txt` using the output appending redirector `>>`.  Note the difference between the single `>` and double `>>`."
   ]
  },
  {
   "cell_type": "code",
   "execution_count": 40,
   "metadata": {
    "deletable": false,
    "nbgrader": {
     "checksum": "85fece0819b324908994a3d00b6d1cea",
     "grade": false,
     "grade_id": "50",
     "locked": true,
     "solution": false
    }
   },
   "outputs": [
    {
     "name": "stdout",
     "output_type": "stream",
     "text": [
      "assignment-1-Fall-2023(1) (3).ipynb\n",
      "filelist.txt\n",
      "partone\n",
      "quotations.txt\n",
      "quotes.txt\n",
      "shell-lesson-data\n",
      "shell-lesson-data.zip\n",
      "assignment-1-Fall-2023(1) (3).ipynb\n",
      "filelist.txt\n",
      "partone\n",
      "quotations.txt\n",
      "quotes.txt\n",
      "shell-lesson-data\n",
      "shell-lesson-data.zip\n"
     ]
    }
   ],
   "source": [
    "!ls >> filelist.txt\n",
    "!cat filelist.txt"
   ]
  },
  {
   "cell_type": "code",
   "execution_count": 41,
   "metadata": {
    "deletable": false,
    "nbgrader": {
     "checksum": "663ad0f4523bc844423ea67d9af45e7c",
     "grade": false,
     "grade_id": "60",
     "locked": true,
     "solution": false
    }
   },
   "outputs": [
    {
     "name": "stdout",
     "output_type": "stream",
     "text": [
      "assignment-1-Fall-2023(1) (3).ipynb\n",
      "filelist.txt\n",
      "partone\n",
      "quotations.txt\n",
      "quotes.txt\n",
      "shell-lesson-data\n",
      "shell-lesson-data.zip\n"
     ]
    }
   ],
   "source": [
    "!ls > filelist.txt\n",
    "!cat filelist.txt"
   ]
  },
  {
   "cell_type": "markdown",
   "metadata": {},
   "source": [
    "What's the difference between `>` and `>>`?\n"
   ]
  },
  {
   "cell_type": "markdown",
   "metadata": {
    "deletable": false,
    "nbgrader": {
     "checksum": "1def2f111701a6f62a735f622190c0fc",
     "grade": true,
     "grade_id": "1060",
     "locked": false,
     "points": 1,
     "solution": true
    }
   },
   "source": [
    "**EDIT THIS CELL** WITH YOUR ANSWER HERE\n",
    "\n",
    "**What's the difference between `>` and `>>`?** For `>`, if the text file exist while coding it, than the new file will overite it. For `>>`, this will add on to the previous text file if the file exist while coding it."
   ]
  },
  {
   "cell_type": "markdown",
   "metadata": {},
   "source": [
    "Now create a directory called \"`mydirectory`\":"
   ]
  },
  {
   "cell_type": "code",
   "execution_count": 33,
   "metadata": {},
   "outputs": [],
   "source": [
    "# Edit this cell!\n",
    "!mkdir mydirectory"
   ]
  },
  {
   "cell_type": "code",
   "execution_count": 34,
   "metadata": {},
   "outputs": [],
   "source": [
    "assert 'mydirectory' in os.listdir('.')"
   ]
  },
  {
   "cell_type": "markdown",
   "metadata": {},
   "source": [
    "Using `ls` and output redirection, create a file called `myfiles.txt` in the directory `mydirectory` that contains the list of files in the current directory."
   ]
  },
  {
   "cell_type": "code",
   "execution_count": 25,
   "metadata": {},
   "outputs": [],
   "source": [
    "# Edit this cell!\n",
    "!ls > mydirectory/myfiles.txt"
   ]
  },
  {
   "cell_type": "code",
   "execution_count": 26,
   "metadata": {},
   "outputs": [],
   "source": [
    "assert 'myfiles.txt' in os.listdir('mydirectory')"
   ]
  },
  {
   "cell_type": "markdown",
   "metadata": {},
   "source": [
    "Clean up the directory you just created by removing its contents (the file you created) using `rm`."
   ]
  },
  {
   "cell_type": "code",
   "execution_count": 29,
   "metadata": {},
   "outputs": [],
   "source": [
    "# Edit this cell!\n",
    "!rm mydirectory/myfiles.txt"
   ]
  },
  {
   "cell_type": "code",
   "execution_count": 35,
   "metadata": {},
   "outputs": [],
   "source": [
    "assert 'myfiles.txt' not in os.listdir('mydirectory')"
   ]
  },
  {
   "cell_type": "code",
   "execution_count": 36,
   "metadata": {},
   "outputs": [],
   "source": [
    "!rmdir mydirectory"
   ]
  },
  {
   "cell_type": "markdown",
   "metadata": {},
   "source": [
    "Now remove the directory itself using `rmdir`."
   ]
  },
  {
   "cell_type": "code",
   "execution_count": 37,
   "metadata": {},
   "outputs": [],
   "source": [
    "# Edit this cell!"
   ]
  },
  {
   "cell_type": "code",
   "execution_count": 38,
   "metadata": {},
   "outputs": [],
   "source": [
    "assert 'mydirectory' not in os.listdir('.')"
   ]
  },
  {
   "cell_type": "markdown",
   "metadata": {
    "tags": []
   },
   "source": [
    "## 5. Filters and pipes (25%)\n",
    "\n",
    "Let's look at something a little more interesting.  Download the text of Charlotte Bronte's *Jane Eyre* from [Project Gutenberg](http://www.gutenberg.org/):"
   ]
  },
  {
   "cell_type": "code",
   "execution_count": 3,
   "metadata": {},
   "outputs": [
    {
     "name": "stdout",
     "output_type": "stream",
     "text": [
      "--2023-09-11 15:43:31--  https://s3.amazonaws.com/2018-dmfa/assignment-1/jane-eyre.txt\n",
      "Resolving s3.amazonaws.com (s3.amazonaws.com)... 52.217.87.102, 52.217.120.240, 16.182.35.240, ...\n",
      "Connecting to s3.amazonaws.com (s3.amazonaws.com)|52.217.87.102|:443... connected.\n",
      "HTTP request sent, awaiting response... 200 OK\n",
      "Length: 1070331 (1.0M) [text/plain]\n",
      "Saving to: ‘jane-eyre.txt.1’\n",
      "\n",
      "jane-eyre.txt.1     100%[===================>]   1.02M  --.-KB/s    in 0.01s   \n",
      "\n",
      "2023-09-11 15:43:31 (69.4 MB/s) - ‘jane-eyre.txt.1’ saved [1070331/1070331]\n",
      "\n"
     ]
    }
   ],
   "source": [
    "!wget https://s3.amazonaws.com/2018-dmfa/assignment-1/jane-eyre.txt"
   ]
  },
  {
   "cell_type": "markdown",
   "metadata": {},
   "source": [
    "`head` and `tail` are very useful.  They let you take a quick peek at the start and end of files."
   ]
  },
  {
   "cell_type": "code",
   "execution_count": 4,
   "metadata": {
    "deletable": false,
    "nbgrader": {
     "checksum": "07bc1e0610cf196f4ecbb3a5faa56d50",
     "grade": false,
     "grade_id": "115",
     "locked": true,
     "solution": false
    }
   },
   "outputs": [
    {
     "name": "stdout",
     "output_type": "stream",
     "text": [
      "﻿The Project Gutenberg eBook, Jane Eyre, by Charlotte Bronte, Illustrated\n",
      "by F. H. Townsend\n",
      "\n",
      "\n",
      "This eBook is for the use of anyone anywhere at no cost and with\n",
      "almost no restrictions whatsoever.  You may copy it, give it away or\n",
      "re-use it under the terms of the Project Gutenberg License included\n",
      "with this eBook or online at www.gutenberg.org\n",
      "\n",
      "\n"
     ]
    }
   ],
   "source": [
    "!head jane-eyre.txt"
   ]
  },
  {
   "cell_type": "code",
   "execution_count": 5,
   "metadata": {
    "deletable": false,
    "nbgrader": {
     "checksum": "be91f9ac94980a260f0168cd893ce8e5",
     "grade": false,
     "grade_id": "117",
     "locked": true,
     "solution": false
    }
   },
   "outputs": [
    {
     "name": "stdout",
     "output_type": "stream",
     "text": [
      "keep eBooks in compliance with any particular paper edition.\n",
      "\n",
      "Most people start at our Web site which has the main PG search facility:\n",
      "\n",
      "     http://www.gutenberg.org\n",
      "\n",
      "This Web site includes information about Project Gutenberg-tm,\n",
      "including how to make donations to the Project Gutenberg Literary\n",
      "Archive Foundation, how to help produce our new eBooks, and how to\n",
      "subscribe to our email newsletter to hear about new eBooks.\n"
     ]
    }
   ],
   "source": [
    "!tail jane-eyre.txt"
   ]
  },
  {
   "cell_type": "markdown",
   "metadata": {},
   "source": [
    "`grep` is one of the most useful filters.  It lets you search for and match lines that contain specific expressions.  For example, to find mentions of \"copyright\":"
   ]
  },
  {
   "cell_type": "code",
   "execution_count": 6,
   "metadata": {
    "deletable": false,
    "nbgrader": {
     "checksum": "841b4f61d576f5cbe8e025748b2b185c",
     "grade": false,
     "grade_id": "120",
     "locked": true,
     "solution": false
    }
   },
   "outputs": [
    {
     "name": "stdout",
     "output_type": "stream",
     "text": [
      "_in this Volume are the copyright of_\n",
      "one owns a United States copyright in these works, so the Foundation\n",
      "permission and without paying copyright royalties.  Special rules,\n",
      "(trademark/copyright) agreement.  If you do not agree to abide by all\n",
      "or PGLAF), owns a compilation copyright in the collection of Project\n",
      "1.D.  The copyright laws of the place where you are located also govern\n",
      "the copyright status of any work in any country outside the United\n",
      "posted with permission of the copyright holder), the work can be copied\n",
      "with the permission of the copyright holder, your use and distribution\n",
      "terms imposed by the copyright holder.  Additional terms will be linked\n",
      "permission of the copyright holder found at the beginning of this work.\n",
      "effort to identify, do copyright research on, transcribe and proofread\n",
      "corrupt data, transcription errors, a copyright or other intellectual\n",
      "unless a copyright notice is included.  Thus, we do not necessarily\n"
     ]
    }
   ],
   "source": [
    "!grep copyright jane-eyre.txt"
   ]
  },
  {
   "cell_type": "markdown",
   "metadata": {
    "nbgrader": {
     "grade": false,
     "locked": false,
     "solution": false
    }
   },
   "source": [
    "Notice anything that those lines have in common? Each line contains the word \"copyright\"\n",
    "\n",
    "Let's add a little more information by including the `-n` flag to add matching line numbers."
   ]
  },
  {
   "cell_type": "code",
   "execution_count": 7,
   "metadata": {
    "deletable": false,
    "nbgrader": {
     "checksum": "6b65a232f107e95ef28958d654db1b22",
     "grade": false,
     "grade_id": "130",
     "locked": true,
     "solution": false
    }
   },
   "outputs": [
    {
     "name": "stdout",
     "output_type": "stream",
     "text": [
      "57:_in this Volume are the copyright of_\n",
      "20719:one owns a United States copyright in these works, so the Foundation\n",
      "20721:permission and without paying copyright royalties.  Special rules,\n",
      "20756:(trademark/copyright) agreement.  If you do not agree to abide by all\n",
      "20775:or PGLAF), owns a compilation copyright in the collection of Project\n",
      "20790:1.D.  The copyright laws of the place where you are located also govern\n",
      "20797:the copyright status of any work in any country outside the United\n",
      "20816:posted with permission of the copyright holder), the work can be copied\n",
      "20826:with the permission of the copyright holder, your use and distribution\n",
      "20828:terms imposed by the copyright holder.  Additional terms will be linked\n",
      "20830:permission of the copyright holder found at the beginning of this work.\n",
      "20901:effort to identify, do copyright research on, transcribe and proofread\n",
      "20906:corrupt data, transcription errors, a copyright or other intellectual\n",
      "21052:unless a copyright notice is included.  Thus, we do not necessarily\n"
     ]
    }
   ],
   "source": [
    "!grep -n copyright jane-eyre.txt"
   ]
  },
  {
   "cell_type": "markdown",
   "metadata": {},
   "source": [
    "Now let's look for any mention of \"book\".  This will match a lot of text, so we'll just take the first 10 matching lines by *piping* the output from `grep` into `head`."
   ]
  },
  {
   "cell_type": "code",
   "execution_count": 8,
   "metadata": {
    "deletable": false,
    "nbgrader": {
     "checksum": "b2915ce333b40c35729ddc198e75a53c",
     "grade": false,
     "grade_id": "140",
     "locked": true,
     "solution": false
    }
   },
   "outputs": [
    {
     "name": "stdout",
     "output_type": "stream",
     "text": [
      "101:doubt the tendency of such books as \"Jane Eyre:\" in whose eyes whatever\n",
      "220:contained a bookcase: I soon possessed myself of a volume, taking care\n",
      "229:book, I studied the aspect of that winter afternoon.  Afar, it offered a\n",
      "234:I returned to my book--Bewick's History of British Birds: the letterpress\n",
      "357:\"Show the book.\"\n",
      "361:\"You have no business to take our books; you are a dependent, mama says;\n",
      "365:rummage my bookshelves: for they _are_ mine; all the house belongs to me,\n",
      "370:lift and poise the book and stand in act to hurl it, I instinctively\n",
      "799:tart away.  Bessie asked if I would have a book: the word _book_ acted as\n",
      "801:the library.  This book I had again and again perused with delight.  I\n",
      "grep: write error: Broken pipe\n"
     ]
    }
   ],
   "source": [
    "!grep -n book jane-eyre.txt | head"
   ]
  },
  {
   "cell_type": "markdown",
   "metadata": {},
   "source": [
    "How many lines contain \"book\"?  We can count by piping into the word count tool `wc`."
   ]
  },
  {
   "cell_type": "code",
   "execution_count": 9,
   "metadata": {
    "deletable": false,
    "nbgrader": {
     "checksum": "fb58de6f7b5f1543978e07677d837bf1",
     "grade": false,
     "grade_id": "150",
     "locked": true,
     "solution": false
    }
   },
   "outputs": [
    {
     "name": "stdout",
     "output_type": "stream",
     "text": [
      "     84    1055    5889\n"
     ]
    }
   ],
   "source": [
    "!grep book jane-eyre.txt | wc"
   ]
  },
  {
   "cell_type": "markdown",
   "metadata": {},
   "source": [
    "That's 84 matching lines, containing 1055 words and 5889 characters.  If you just wanted the lines by themselves, use `wc -l`:"
   ]
  },
  {
   "cell_type": "code",
   "execution_count": 10,
   "metadata": {
    "deletable": false,
    "nbgrader": {
     "checksum": "11148a8a14955620fc0280d0a2ea4bca",
     "grade": false,
     "grade_id": "160",
     "locked": true,
     "solution": false
    }
   },
   "outputs": [
    {
     "name": "stdout",
     "output_type": "stream",
     "text": [
      "84\n"
     ]
    }
   ],
   "source": [
    "!grep book jane-eyre.txt | wc -l"
   ]
  },
  {
   "cell_type": "markdown",
   "metadata": {},
   "source": [
    "What if we want to match both upper- and lower-case text?  Use `grep -i`:"
   ]
  },
  {
   "cell_type": "code",
   "execution_count": 11,
   "metadata": {
    "deletable": false,
    "nbgrader": {
     "checksum": "8f95d05a6e3cbed9e4d98e32b740a92d",
     "grade": false,
     "grade_id": "170",
     "locked": true,
     "solution": false
    }
   },
   "outputs": [
    {
     "name": "stdout",
     "output_type": "stream",
     "text": [
      "402\n"
     ]
    }
   ],
   "source": [
    "!grep time\n",
    "jane-eyre.txt | wc -l"
   ]
  },
  {
   "cell_type": "code",
   "execution_count": 12,
   "metadata": {
    "deletable": false,
    "nbgrader": {
     "checksum": "912c4b535f38fd939a3d8e55fae2b396",
     "grade": false,
     "grade_id": "180",
     "locked": true,
     "solution": false
    }
   },
   "outputs": [
    {
     "name": "stdout",
     "output_type": "stream",
     "text": [
      "402\n"
     ]
    }
   ],
   "source": [
    "!grep -i time jane-eyre.txt | wc -l"
   ]
  },
  {
   "cell_type": "markdown",
   "metadata": {},
   "source": [
    "How many lines in *Jane Eyre* contain \"other\" (just lower-case)?  Start by using `grep` to extract lines that match the word \"other\" in `jane-eyre.txt` and redirecting it to a file called `other-lines.txt`."
   ]
  },
  {
   "cell_type": "code",
   "execution_count": 13,
   "metadata": {},
   "outputs": [],
   "source": [
    "!grep other jane-eyre.txt > other-lines.txt"
   ]
  },
  {
   "cell_type": "code",
   "execution_count": 14,
   "metadata": {
    "deletable": false,
    "nbgrader": {
     "checksum": "b8f99b25656d31de80ac60c6342a113c",
     "grade": true,
     "grade_id": "2190",
     "locked": true,
     "points": 1,
     "solution": false
    }
   },
   "outputs": [],
   "source": [
    "%sc h_other = head -1 other-lines.txt\n",
    "assert \"other\" in h_other"
   ]
  },
  {
   "cell_type": "code",
   "execution_count": 15,
   "metadata": {
    "deletable": false,
    "nbgrader": {
     "checksum": "4421d8e10e40f320b2e84d340701bcd1",
     "grade": true,
     "grade_id": "2200",
     "locked": true,
     "points": 1,
     "solution": false
    }
   },
   "outputs": [],
   "source": [
    "%sc t_other = tail -1 other-lines.txt\n",
    "assert \"other\" in t_other"
   ]
  },
  {
   "cell_type": "markdown",
   "metadata": {
    "deletable": false,
    "nbgrader": {
     "checksum": "2a1968fbde32fc80801d88a1e58f1c48",
     "grade": true,
     "grade_id": "2220",
     "locked": true,
     "points": 1,
     "solution": false
    }
   },
   "source": [
    "Now count up the lines in the file you created using wc."
   ]
  },
  {
   "cell_type": "code",
   "execution_count": 16,
   "metadata": {},
   "outputs": [
    {
     "name": "stdout",
     "output_type": "stream",
     "text": [
      "426 other-lines.txt\n"
     ]
    }
   ],
   "source": [
    "!wc -l other-lines.txt"
   ]
  },
  {
   "cell_type": "code",
   "execution_count": 17,
   "metadata": {},
   "outputs": [
    {
     "name": "stdout",
     "output_type": "stream",
     "text": [
      "    426    5027   28621\n"
     ]
    }
   ],
   "source": [
    "!grep other other-lines.txt | wc"
   ]
  },
  {
   "cell_type": "markdown",
   "metadata": {},
   "source": [
    "Your answer should be 426!"
   ]
  },
  {
   "cell_type": "markdown",
   "metadata": {},
   "source": [
    "## 6. Counting words with `grep` (25%)\n",
    "\n",
    "By piping commands together we can do a lot of powerful things right at the command line.  Let's create a count of the most commonly occurring words in *Jane Eyre*.  To do that, we could write a Python or R script that just counts words, but with the command line shell tools we only need to put a proper pipeline together and we can often accomplish tasks like this in one line.\n",
    "\n",
    "First we need to split up the text lines into a word per line.  There are `grep` flags for that!"
   ]
  },
  {
   "cell_type": "code",
   "execution_count": 18,
   "metadata": {
    "deletable": false,
    "nbgrader": {
     "checksum": "1fd3747e7dc91b3e1f4fff371a934f99",
     "grade": false,
     "grade_id": "230",
     "locked": true,
     "solution": false
    }
   },
   "outputs": [
    {
     "name": "stdout",
     "output_type": "stream",
     "text": [
      "\n",
      "The\n",
      "Project\n",
      "Gutenberg\n",
      "eBook\n",
      "Jane\n",
      "Eyre\n",
      "by\n",
      "Charlotte\n",
      "Bronte\n",
      "tr: write error: Broken pipe\n",
      "tr: write error\n",
      "cat: write error: Broken pipe\n"
     ]
    }
   ],
   "source": [
    "!cat jane-eyre.txt | tr -sc '[:alpha:]' '[\\n*]' | head -10"
   ]
  },
  {
   "cell_type": "markdown",
   "metadata": {},
   "source": [
    "Now we need to sort them and count the unique tokens.  `sort` solves the first problem."
   ]
  },
  {
   "cell_type": "code",
   "execution_count": 19,
   "metadata": {
    "deletable": false,
    "nbgrader": {
     "checksum": "4f7be0c7fb94712a0745b5af4417b323",
     "grade": false,
     "grade_id": "240",
     "locked": true,
     "solution": false
    }
   },
   "outputs": [
    {
     "name": "stdout",
     "output_type": "stream",
     "text": [
      "\n",
      "A\n",
      "A\n",
      "A\n",
      "A\n",
      "A\n",
      "A\n",
      "A\n",
      "A\n",
      "A\n",
      "sort: write failed: 'standard output': Broken pipe\n",
      "sort: write error\n"
     ]
    }
   ],
   "source": [
    "!cat jane-eyre.txt | tr -sc '[:alpha:]' '[\\n*]' | sort | head -10"
   ]
  },
  {
   "cell_type": "markdown",
   "metadata": {},
   "source": [
    "And `uniq -c` solves the second problem."
   ]
  },
  {
   "cell_type": "code",
   "execution_count": 20,
   "metadata": {
    "deletable": false,
    "nbgrader": {
     "checksum": "686d202bf3e062df279ccd1f00c83285",
     "grade": false,
     "grade_id": "250",
     "locked": true,
     "solution": false
    }
   },
   "outputs": [
    {
     "name": "stdout",
     "output_type": "stream",
     "text": [
      "      1 \n",
      "    159 A\n",
      "      1 ACTUAL\n",
      "      2 AGREE\n",
      "      1 AGREEMENT\n",
      "      1 AK\n",
      "      1 AN\n",
      "      1 AND\n",
      "      3 ANY\n",
      "      1 ANYTHING\n",
      "      1 AS\n",
      "      3 ASCII\n",
      "      1 AUTHOR\n",
      "      1 AUTOBIOGRAPHY\n",
      "     25 Abbot\n",
      "      1 Abhorred\n",
      "      1 Abigail\n",
      "      1 Abominable\n",
      "      5 About\n",
      "      3 Above\n",
      "      1 Absent\n",
      "      1 Absolutely\n",
      "      1 According\n",
      "      1 Accordingly\n",
      "      1 Accustomed\n",
      "uniq: write error: Broken pipe\n"
     ]
    }
   ],
   "source": [
    "!cat jane-eyre.txt | tr -sc '[:alpha:]' '[\\n*]' | sort | uniq -c | head -25"
   ]
  },
  {
   "cell_type": "markdown",
   "metadata": {},
   "source": [
    "But there's a catch... do you see it?\n",
    "\n",
    "We need to convert all the words down into lower case so that we are correctly counting unique words.  There's another command, `tr`, for that."
   ]
  },
  {
   "cell_type": "code",
   "execution_count": 21,
   "metadata": {
    "deletable": false,
    "nbgrader": {
     "checksum": "dcd703639103bcfc948b3ef5bc364f19",
     "grade": false,
     "grade_id": "260",
     "locked": true,
     "solution": false
    }
   },
   "outputs": [
    {
     "name": "stdout",
     "output_type": "stream",
     "text": [
      "      1 \n",
      "   4541 a\n",
      "      3 abandon\n",
      "      8 abandoned\n",
      "      2 abandonment\n",
      "      1 abate\n",
      "     25 abbot\n",
      "      4 abhor\n",
      "      5 abhorred\n",
      "      3 abide\n",
      "      1 abigail\n",
      "      2 abigails\n",
      "      1 abilities\n",
      "     23 able\n",
      "      8 abode\n",
      "      1 abodes\n",
      "      2 abominable\n",
      "      1 aboon\n",
      "    228 about\n",
      "     41 above\n",
      "      1 abridge\n",
      "      4 abroad\n",
      "      8 abrupt\n",
      "      6 abruptly\n",
      "      1 abruptness\n",
      "uniq: write error: Broken pipe\n"
     ]
    }
   ],
   "source": [
    "!cat jane-eyre.txt | tr -sc '[:alpha:]' '[\\n*]' | tr '[:upper:]' '[:lower:]' | sort | uniq -c | head -25"
   ]
  },
  {
   "cell_type": "markdown",
   "metadata": {},
   "source": [
    "...and if we want to know only the top 10 words in *Jane Eyre*, we need to sort the output."
   ]
  },
  {
   "cell_type": "code",
   "execution_count": 1,
   "metadata": {
    "deletable": false,
    "nbgrader": {
     "checksum": "c87de9b72cbb741a9fd07f48ecc5a78c",
     "grade": false,
     "grade_id": "270",
     "locked": true,
     "solution": false
    }
   },
   "outputs": [
    {
     "name": "stdout",
     "output_type": "stream",
     "text": [
      "      1 \n",
      "      1 abate\n",
      "      1 abigail\n",
      "      1 abilities\n",
      "      1 abodes\n",
      "      1 aboon\n",
      "      1 abridge\n",
      "      1 abruptness\n",
      "      1 absences\n",
      "      1 absorbing\n",
      "sort: write failed: 'standard output': Broken pipe\n",
      "sort: write error\n"
     ]
    }
   ],
   "source": [
    "!cat jane-eyre.txt | tr -sc '[:alpha:]' '[\\n*]' | tr '[:upper:]' '[:lower:]' | sort | uniq -c | sort | head -10"
   ]
  },
  {
   "cell_type": "markdown",
   "metadata": {},
   "source": [
    "But that sorts by character, not number.  Fortunately, `sort -n` does what we want."
   ]
  },
  {
   "cell_type": "code",
   "execution_count": 2,
   "metadata": {
    "deletable": false,
    "nbgrader": {
     "checksum": "fecdbd7552145920ddff8c2ac0d21ca7",
     "grade": false,
     "grade_id": "280",
     "locked": true,
     "solution": false
    }
   },
   "outputs": [
    {
     "name": "stdout",
     "output_type": "stream",
     "text": [
      "      1 \n",
      "      1 abate\n",
      "      1 abigail\n",
      "      1 abilities\n",
      "      1 abodes\n",
      "      1 aboon\n",
      "      1 abridge\n",
      "      1 abruptness\n",
      "      1 absences\n",
      "      1 absorbing\n",
      "sort: write failed: 'standard output': Broken pipe\n",
      "sort: write error\n"
     ]
    }
   ],
   "source": [
    "!cat jane-eyre.txt | tr -sc '[:alpha:]' '[\\n*]' | tr '[:upper:]' '[:lower:]' | sort | uniq -c | sort -n | head -10"
   ]
  },
  {
   "cell_type": "markdown",
   "metadata": {},
   "source": [
    "But that's the wrong end of the list!  Two ways to fix that:  (a) use `tail` instead of `head`; (b) use `sort -rn`, which will sort in reverse order.  Let's try the latter."
   ]
  },
  {
   "cell_type": "code",
   "execution_count": 24,
   "metadata": {
    "deletable": false,
    "nbgrader": {
     "checksum": "a8e960da24ca9db3c6f2a9da999f11e6",
     "grade": false,
     "grade_id": "290",
     "locked": true,
     "solution": false
    },
    "scrolled": true
   },
   "outputs": [
    {
     "name": "stdout",
     "output_type": "stream",
     "text": [
      "   8033 the\n",
      "   7268 i\n",
      "   6699 and\n",
      "   5318 to\n",
      "   4541 a\n",
      "   4484 of\n",
      "   3066 you\n",
      "   2826 in\n",
      "   2527 was\n",
      "   2431 it\n",
      "sort: write failed: 'standard output': Broken pipe\n",
      "sort: write error\n"
     ]
    }
   ],
   "source": [
    "!cat jane-eyre.txt | tr -sc '[:alpha:]' '[\\n*]' | tr '[:upper:]' '[:lower:]' | sort | uniq -c | sort -rn | head -10"
   ]
  },
  {
   "cell_type": "markdown",
   "metadata": {},
   "source": [
    "Let's try another text.\n",
    "\n",
    "Download *Through the Looking Glass* from https://s3.amazonaws.com/2018-dmfa/assignment-1/looking-glass.txt"
   ]
  },
  {
   "cell_type": "code",
   "execution_count": 28,
   "metadata": {},
   "outputs": [
    {
     "name": "stdout",
     "output_type": "stream",
     "text": [
      "--2023-09-11 15:57:44--  https://s3.amazonaws.com/2018-dmfa/assignment-1/looking-glass.txt\n",
      "Resolving s3.amazonaws.com (s3.amazonaws.com)... 54.231.204.16, 16.182.42.56, 52.216.210.224, ...\n",
      "Connecting to s3.amazonaws.com (s3.amazonaws.com)|54.231.204.16|:443... connected.\n",
      "HTTP request sent, awaiting response... 200 OK\n",
      "Length: 193607 (189K) [text/plain]\n",
      "Saving to: ‘looking-glass.txt.1’\n",
      "\n",
      "looking-glass.txt.1 100%[===================>] 189.07K  --.-KB/s    in 0.002s  \n",
      "\n",
      "2023-09-11 15:57:44 (91.7 MB/s) - ‘looking-glass.txt.1’ saved [193607/193607]\n",
      "\n"
     ]
    }
   ],
   "source": [
    "!wget https://s3.amazonaws.com/2018-dmfa/assignment-1/looking-glass.txt"
   ]
  },
  {
   "cell_type": "code",
   "execution_count": 31,
   "metadata": {},
   "outputs": [],
   "source": [
    "assert 'looking-glass.txt' in os.listdir('.')"
   ]
  },
  {
   "cell_type": "markdown",
   "metadata": {},
   "source": [
    "Take a look at the next cell.  Will it find the top 25 unique words in *Through the Looking Glass* successfully?"
   ]
  },
  {
   "cell_type": "code",
   "execution_count": 27,
   "metadata": {
    "deletable": false,
    "nbgrader": {
     "checksum": "26e86e52c08c3ab85688df6d66119936",
     "grade": false,
     "grade_id": "320",
     "locked": true,
     "solution": false
    }
   },
   "outputs": [
    {
     "name": "stdout",
     "output_type": "stream",
     "text": [
      "      1 \n",
      "     26 A\n",
      "      1 ACTUAL\n",
      "      2 AGED\n",
      "      2 AGREE\n",
      "      1 AGREEMENT\n",
      "      1 AK\n",
      "      3 AKA\n",
      "      1 ALICE\n",
      "      4 ALL\n",
      "      1 ALONE\n",
      "      1 ALWAYS\n",
      "      5 AM\n",
      "      5 AND\n",
      "      1 ANSWERS\n",
      "      4 ANY\n",
      "      2 ANYTHING\n",
      "      5 ARE\n",
      "      1 AS\n",
      "      2 ASCII\n",
      "      1 AT\n",
      "      1 About\n",
      "      3 Addition\n",
      "      1 Additional\n",
      "      7 After\n",
      "uniq: write error: Broken pipe\n"
     ]
    }
   ],
   "source": [
    "!cat looking-glass.txt | tr -sc '[:alpha:]' '[\\n*]' | sort | uniq -c | head -25"
   ]
  },
  {
   "cell_type": "markdown",
   "metadata": {},
   "source": [
    "Describe what needs to be done to the previous cell to get it to work correctly.  **Describe it using words**, explaining the issues, rather than using shell commands!"
   ]
  },
  {
   "cell_type": "markdown",
   "metadata": {},
   "source": [
    "**EDIT THIS CELL** WITH YOUR ANSWER HERE\n",
    "It should sort by the numbers for the top 25 unique words, but now it sorts alphabetically. So we need make upper words to lower and sort the number of top 25 unique words in descening order in order to recieve the correct output\n"
   ]
  },
  {
   "cell_type": "markdown",
   "metadata": {},
   "source": [
    "Okay, now implement your solution using shell commands with a pipeline."
   ]
  },
  {
   "cell_type": "code",
   "execution_count": 5,
   "metadata": {},
   "outputs": [
    {
     "name": "stdout",
     "output_type": "stream",
     "text": [
      "   1775 the\n",
      "    975 and\n",
      "    819 a\n",
      "    817 to\n",
      "    686 you\n",
      "    681 it\n",
      "    660 i\n",
      "    604 of\n",
      "    544 she\n",
      "    473 said\n",
      "    466 in\n",
      "    455 alice\n",
      "    374 that\n",
      "    358 was\n",
      "    326 as\n",
      "    323 t\n",
      "    309 s\n",
      "    272 her\n",
      "    268 with\n",
      "    260 on\n",
      "    245 at\n",
      "    226 he\n",
      "    225 for\n",
      "    210 all\n",
      "    208 but\n",
      "sort: write failed: 'standard output': Broken pipe\n",
      "sort: write error\n"
     ]
    }
   ],
   "source": [
    "!cat looking-glass.txt | tr -sc '[:alpha:]' '[\\n*]' |  tr '[:upper:]' '[:lower:]' | sort | uniq -c | sort -rn| head -25"
   ]
  }
 ],
 "metadata": {
  "anaconda-cloud": {},
  "kernelspec": {
   "display_name": "Python 3 (ipykernel)",
   "language": "python",
   "name": "python3"
  },
  "language_info": {
   "codemirror_mode": {
    "name": "ipython",
    "version": 3
   },
   "file_extension": ".py",
   "mimetype": "text/x-python",
   "name": "python",
   "nbconvert_exporter": "python",
   "pygments_lexer": "ipython3",
   "version": "3.8.10"
  }
 },
 "nbformat": 4,
 "nbformat_minor": 4
}
